{
 "cells": [
  {
   "cell_type": "markdown",
   "id": "d5840bb1",
   "metadata": {},
   "source": [
    "# Multi-container knapsack\n",
    "\n",
    "### Problem statement\n",
    "\n",
    "We have 3 trucks: 0, 1 and 2.\n",
    "\n",
    "We have 30 items, and each item can either be placed on a particular truck, or not placed on any truck.\n",
    "\n",
    "Each item has a value and a weight.\n",
    "\n",
    "We want to maximise the total value of the items we place on the trucks.\n",
    "\n",
    "But each truck has its own weight limit, so for each truck we have to obey the limit on its weight.\n",
    "\n",
    "Your task is to solve this problem, comparing multiple algorithms / algorithmic ideas, and variants, and multiple hyperparameter values where appropriate, and report on your results.\n",
    "\n",
    "### Measuring performance\n",
    "\n",
    "I provide an objective function which (a) checks whether the weight limits are obeyed, and if yes it returns the sum of values achieved. Otherwise it returns 0. In this objective function, the solution is specified as a bitstring. We think of it in chunks of 3, one chunk for each item. If a chunk is `100`, for example, it means that the item is in truck 0. `001` means it's in truck 2. If there's no 0 in the chunk, it means the item is not placed on any truck. If there's more than 1 `1` in the chunk, eg `110`, it means the solution is invalid, and again we return 0.\n",
    "\n",
    "For example, with 5 items and 3 trucks, the following would be a valid bitstring for my objective function.\n",
    "\n",
    "`001 100 001 010 000`\n",
    "\n",
    "I also provide a function to print a solution in a condensed format like the above.\n",
    "\n",
    "### Experiments\n",
    "\n",
    "You are free to use any metaheuristic algorithms, including HC, SA, GA, and/or any variant. You are free to use any encoding, which could be a bitstring encoding or something else; a genotype-phenotype mapping, a repair mechanism, or similar; and/or custom `init`, `nbr`, and/or `crossover` operators. You are free to use a different objective function **during the run**, but remember that you must use my objective function for the **final evaluation**, for fair comparison of all methods. You are free to use ideas which you or others have suggested in class to improve the algorithms.\n",
    "\n",
    "For each setup, you should run the setup 5 times with random seeds 0, 1, 2, 3, 4, and compare the mean performance.\n",
    "\n",
    "If you wish, you can show curves to demonstrate behaviour, such as objective over time, or diversity over time."
   ]
  },
  {
   "cell_type": "markdown",
   "id": "1100e4a7-cb0b-4852-843d-b6d6b250b897",
   "metadata": {},
   "source": [
    "### NAME: Gaurav Shinde\n",
    "    STUDENT ID: 23104774    "
   ]
  },
  {
   "cell_type": "markdown",
   "id": "f93f8814-9c5c-4889-a81e-ea643bb03343",
   "metadata": {},
   "source": [
    "## Experiment Title: Comparative Analysis of Optimization Algorithms for a Multi-Truck Knapsack Problem\n",
    "The objective of our experiment is simple - to maximise the total value of the items we place on the trucks.\n",
    "This experiment presents us with an interesting yet challenging combinatorial optimization problem.\n",
    "### Introduction\n",
    "We design our experiment focusing primarily on two algorithms: Hill Climbing and Genetic Algorithm. Initially, we started with a novel Hill Climbing approach that introduced two neighbor functions, nbr_new and nbr_shuffle, former focusing on adding items to underweight trucks and later reshuffling items from overweight trucks to underweight trucks to optimize the packing. However, we observed unsatisfactory results as the total value of packed items remained low, reaching only 768. Surprisingly, a basic Hill Climbing algorithm, used for solving single-truck knapsack problems, achieved better results with a total value of 1068.\n",
    "\n",
    "Subsequently, we shifted our focus to implementing a Genetic Algorithm, incorporating roulette wheel selection and elitism. This approach yielded improved results, achieving a total value of 1268."
   ]
  },
  {
   "cell_type": "code",
   "execution_count": 80,
   "id": "61db7dd3",
   "metadata": {},
   "outputs": [],
   "source": [
    "# 30 items, each with a weight and a value: (wt, val)\n",
    "items = [(7, 70), (13, 25), (20, 50), (4, 38), (10, 48), (4, 72), (1, 12), (5, 30), (19, 21), (1, 99), \n",
    "         (8, 87), (14, 31), (19, 10), (10, 67), (19, 12), (11, 50), (8, 13), (3, 68), (12, 50), (13, 41), \n",
    "         (1, 67), (8, 98), (5, 28), (3, 15), (17, 78), (13, 83), (2, 25), (14, 79), (6, 48), (20, 49)]"
   ]
  },
  {
   "cell_type": "code",
   "execution_count": 81,
   "id": "7ec4decb",
   "metadata": {},
   "outputs": [],
   "source": [
    "def objective_function(x):\n",
    "    total_value = 0\n",
    "    container_weights = [0, 0, 0]\n",
    "    # truck weight limits\n",
    "    weight_limits = [72, 80, 109]\n",
    "    \n",
    "    for i, (wt, val) in enumerate(items):\n",
    "        chunk = x[i*3 : i*3+3]\n",
    "        \n",
    "        if sum(chunk) > 1:\n",
    "            return 0 # can't place item in more than truck\n",
    "        if sum(chunk) == 0:\n",
    "            continue # this item is not chosen\n",
    "        # Find which container this item is allocated to: 0, 1 or 2\n",
    "        idx = chunk.index(1)\n",
    "        \n",
    "        # Place the item in the container\n",
    "        container_weights[idx] += wt\n",
    "        if container_weights[idx] > weight_limits[idx]:\n",
    "            return 0 # over-weight\n",
    "        total_value += val\n",
    "    \n",
    "    return total_value\n",
    "\n",
    "# useful for printing in a condensed format\n",
    "def print_sol(x):\n",
    "    for i in range(len(x) // 3):\n",
    "        chunk = x[i*3 : i*3+3]\n",
    "        for j in chunk:\n",
    "            print(j, end=\"\")\n",
    "        print(\" \", end=\"\")\n",
    "    print(\"\")"
   ]
  },
  {
   "cell_type": "markdown",
   "id": "02d9dd2d",
   "metadata": {},
   "source": [
    "Below is a short test / demo:"
   ]
  },
  {
   "cell_type": "code",
   "execution_count": 83,
   "id": "f4873b57",
   "metadata": {},
   "outputs": [
    {
     "name": "stdout",
     "output_type": "stream",
     "text": [
      "The total value for the solution\n",
      "110 000 000 001 000 000 000 000 100 000 000 001 000 000 000 000 000 000 010 000 000 000 000 100 010 000 000 000 000 000 \n",
      "is 0.\n",
      "The total value for the solution\n",
      "100 100 100 000 000 000 000 000 000 000 100 100 100 000 000 000 000 000 000 000 100 100 100 000 000 000 000 000 000 000 \n",
      "is 0.\n",
      "The total value for the solution\n",
      "000 000 000 001 000 100 000 000 100 000 010 001 000 000 000 000 000 000 010 000 001 100 000 100 010 000 000 001 000 000 \n",
      "is 636.\n"
     ]
    }
   ],
   "source": [
    "\n",
    "# 1,1,0 for item 0 is invalid\n",
    "bad_solution1 = [1,1,0, 0,0,0, 0,0,0, 0,0,1, 0,0,0, 0,0,0, 0,0,0, 0,0,0, 1,0,0, 0,0,0, \n",
    "                 0,0,0, 0,0,1, 0,0,0, 0,0,0, 0,0,0, 0,0,0, 0,0,0, 0,0,0, 0,1,0, 0,0,0, \n",
    "                 0,0,0, 0,0,0, 0,0,0, 1,0,0, 0,1,0, 0,0,0, 0,0,0, 0,0,0, 0,0,0, 0,0,0]\n",
    "# over-weight for truck 0\n",
    "bad_solution2 = [1,0,0, 1,0,0, 1,0,0, 0,0,0, 0,0,0, 0,0,0, 0,0,0, 0,0,0, 0,0,0, 0,0,0, \n",
    "                 1,0,0, 1,0,0, 1,0,0, 0,0,0, 0,0,0, 0,0,0, 0,0,0, 0,0,0, 0,0,0, 0,0,0, \n",
    "                 1,0,0, 1,0,0, 1,0,0, 0,0,0, 0,0,0, 0,0,0, 0,0,0, 0,0,0, 0,0,0, 0,0,0]\n",
    "# ok\n",
    "good_solution = [0,0,0, 0,0,0, 0,0,0, 0,0,1, 0,0,0, 1,0,0, 0,0,0, 0,0,0, 1,0,0, 0,0,0, \n",
    "                 0,1,0, 0,0,1, 0,0,0, 0,0,0, 0,0,0, 0,0,0, 0,0,0, 0,0,0, 0,1,0, 0,0,0, \n",
    "                 0,0,1, 1,0,0, 0,0,0, 1,0,0, 0,1,0, 0,0,0, 0,0,0, 0,0,1, 0,0,0, 0,0,0]\n",
    "for sol in [bad_solution1, bad_solution2, good_solution]:\n",
    "    print(f\"The total value for the solution\")\n",
    "    print_sol(sol)\n",
    "    print(f\"is {objective_function(sol)}.\")\n",
    "\n"
   ]
  },
  {
   "cell_type": "markdown",
   "id": "fe40b29e-4f30-4025-bf73-f8c9087ee8d8",
   "metadata": {},
   "source": [
    "## Experiment involving Hill Climbing with two neighbor functions\n",
    "### Introduction\n",
    "We introduced two neighbor functions, nbr_new and nbr_shuffle, which focused on adding items to underweight trucks and reshuffling items from overweight trucks to optimize the packing. However, the results were disappointing.\n",
    "Hill Climbing with nbr_new and nbr_shuffle: Mean value achieved: 768.\n"
   ]
  },
  {
   "cell_type": "code",
   "execution_count": 128,
   "id": "a3140e2c-6506-442e-a2a5-04f7b92f92f7",
   "metadata": {},
   "outputs": [],
   "source": [
    "def init():    \n",
    "    bits = [];\n",
    "    # Generate an initial solution with 30 chunks of 3 bits each\n",
    "    for _ in range(30):\n",
    "        chunk = [0, 0, 0]                    # Initialize a chunk with all zeros\n",
    "        if random.random() > 0.5:            # There is 50% probability that this item will be selected\n",
    "            chunk[random.randint(0, 2)] = 1  # The selected item is randomly added to any truck            \n",
    "        bits.extend(chunk)                   # Append the initialized chunk to the solution\n",
    "    return bits\n",
    "\n",
    "# Neighbor function that adds new items to the underweight trucks.\n",
    "# It iterate through the solution and checks which item is NOT added to any truck (0,0,0) and randomly adds that item to the underweight truck.\n",
    "def nbr_new(x):\n",
    "    x = x.copy()\n",
    "    # Iterate through the list of bits in chunks of three\n",
    "    for i in range(0, len(x), 3):\n",
    "        chunk = x[i : i+3]\n",
    "        # Check if all bits in the current chunk are zero\n",
    "        if all(bit == 0 for bit in chunk):\n",
    "            j = random.randrange(3)          # Randomly choose a position (0, 1, or 2)\n",
    "            chunk[j] = 1                     # Set the selected position to 1\n",
    "        # Update the original list with the modified chunk    \n",
    "        x[i : i+3] = chunk        \n",
    "    return x\n",
    "\n",
    "# This neighbor function reshuffles the items in the truck by removing an item from over weight truck and adding it to an underweight truck\n",
    "def nbr_shuffle(x,truck_list,container_weights):\n",
    "    x = x.copy()\n",
    "    all_trucks = [0, 1, 2]         \n",
    "    weight_limits = [72, 80, 109]\n",
    "    \n",
    "    # Calculate the list of underweight trucks\n",
    "    under_weight_trucks = list(set(all_trucks) - set(truck_list))\n",
    "    # Means there is atleast one underweight truck and we still have scope to add items\n",
    "    if len(under_weight_trucks) > 0: \n",
    "        for no in truck_list:\n",
    "            if no == 0:\n",
    "                for i in range(0, len(x)-4, 3):\n",
    "                    chunk = x[i : i+3]\n",
    "                    # Check if adding the item to this truck will keep it within weight limits\n",
    "                    if container_weights[no] + items[i][0] <= weight_limits[no]:\n",
    "                        if chunk[0] == 1:\n",
    "                            chunk[under_weight_trucks[0]] == 1\n",
    "                        x[i : i + 3] = chunk\n",
    "                        break\n",
    "            elif no == 1:\n",
    "                # Check if adding the item to this truck will keep it within weight limits\n",
    "                if container_weights[no] + items[i][0] <= weight_limits[no]:\n",
    "                    num_chunks = 30\n",
    "                    for i in range(num_chunks):\n",
    "                        item_truck1 = x[i*3 + 1]\n",
    "                        if item_truck1 == 1:\n",
    "                            x[under_weight_trucks[0]] = 1\n",
    "                            break\n",
    "            elif no == 2:\n",
    "                # Check if adding the item to this truck will keep it within weight limits\n",
    "                if container_weights[no] + items[i][0] <= weight_limits[no]:\n",
    "                    for i in range(2, len(x), 3):\n",
    "                        if x[i] == 1:\n",
    "                            x[under_weight_trucks[0]] = 1\n",
    "                            break\n",
    "    else:  \n",
    "        # Means all trucks are overweight, need to remove items from the trucks to stay within weight limits\n",
    "        # Iterate through the list of bits in chunks of three\n",
    "        for i in range(0, len(bits)-4, 3):\n",
    "            chunk = bits[i:i + 3]             \n",
    "            truck_index = i // 3  \n",
    "             # Check if the current truck is overweight \n",
    "            if container_weights[truck_index] > weight_limits[truck_index]:\n",
    "                # Check if there's an item (1) in the current chunk\n",
    "                if 1 in chunk:\n",
    "                    # Remove one item from the current chunk by changing a 1 to 0\n",
    "                    for j in range(len(chunk)):\n",
    "                        if chunk[j] == 1:\n",
    "                            chunk[j] = 0\n",
    "                            break  # Remove one item, then break\n",
    "\n",
    "                    # Update the original list with the modified chunk\n",
    "                    bits[i:i + 3] = chunk\n",
    "\n",
    "                    # Update the current weight of the truck\n",
    "                    container_weights[truck_index] -= item_weight  # Pseudo-code for item weight\n",
    "\n",
    "    return x\n",
    "\n",
    "# This is a simple neighbor function which randomly flips bits from the solution. This function was used to compare and evaluate the performance of \n",
    "# our novel approach of using two neighbor functions. Surprinsingly, this algorithm achieved better results of total value 1068 than the complex one above.\n",
    "def nbr(x):\n",
    "    x = x.copy()\n",
    "    num_chunk = len(x) // 3\n",
    "    y = num_chunk+1\n",
    "    i = random.randrange(y)\n",
    "    chunk = x[i : i+3]\n",
    "    # Iterate through the bits in the chunk\n",
    "    for j in chunk:\n",
    "        if sum(chunk) > 0:           # Check if there's at least one item (bit) in the chunk\n",
    "            if chunk[j] == 1:        # Remove the item in j truck by flipping the bit from 1 to 0\n",
    "                chunk[j] = 0\n",
    "        else:\n",
    "            k = random.randint(0,2)  # Since current item is not added in any truck, randomly add it to any truck\n",
    "            chunk[k] = 1\n",
    "    x[i : i+3] = chunk               # Update the original solution with the modified chunk\n",
    "    return x"
   ]
  },
  {
   "cell_type": "code",
   "execution_count": 129,
   "id": "8ca8eb05-e168-4213-a1eb-699ee64d2b66",
   "metadata": {},
   "outputs": [],
   "source": [
    "def check_overweight_truck(x):\n",
    "    total = 0\n",
    "    container_weights = [0, 0, 0]\n",
    "    # truck weight limits\n",
    "    weight_limits = [72, 80, 109]\n",
    "    end = len(x)\n",
    "    for i, (wt,value) in enumerate(items):\n",
    "        chunk = x[i*3 : i*3+3]\n",
    "        if sum(chunk) == 1:\n",
    "            location = chunk.index(1)\n",
    "            container_weights[location] += wt\n",
    "        total += value\n",
    "        \n",
    "    overweight_trucks = []\n",
    "    for i,v in enumerate(container_weights):\n",
    "        if v > weight_limits[i]:\n",
    "            overweight_trucks.append(i)\n",
    "    \n",
    "    return container_weights, overweight_trucks"
   ]
  },
  {
   "cell_type": "code",
   "execution_count": 205,
   "id": "f8c5c757-6978-4408-a788-284df6fe4ec9",
   "metadata": {},
   "outputs": [],
   "source": [
    "def HC(init, nbr_new, nbr_shuffle, its):\n",
    "    history = []\n",
    "    x = init() # make a random point\n",
    "    fx = objective_function(x)\n",
    "    for i in range(its):\n",
    "        \n",
    "        # novel hill climbing approach        \n",
    "        cw,ow = check_overweight_truck(x)\n",
    "        \n",
    "        if len(ow) > 0:            \n",
    "            xnew = nbr_shuffle(x,ow,cw) # make new point by changing x\n",
    "            fxnew = objective_function(xnew)\n",
    "            if fxnew > fx: # if it's better\n",
    "                x = xnew # step to the new point\n",
    "                fx = fxnew\n",
    "            history.append(fx)\n",
    "        else:\n",
    "            xnew = nbr_new(x)\n",
    "            fxnew = objective_function(xnew)\n",
    "            if fxnew > fx: # if it's better\n",
    "                x = xnew # step to the new point\n",
    "                fx = fxnew\n",
    "            history.append(fx)\n",
    "             \n",
    "        \"\"\"\n",
    "        # Hill climbing with simple neighbor operator\n",
    "        xnew = nbr(x) # make new point by changing x\n",
    "        fxnew = objective_function(xnew)\n",
    "        if fxnew > fx: # if it's better\n",
    "            x = xnew # step to the new point\n",
    "            fx = fxnew\n",
    "        history.append(fx)  \n",
    "        \"\"\"\n",
    "        \n",
    "    return x, history"
   ]
  },
  {
   "cell_type": "code",
   "execution_count": 207,
   "id": "82a68f63-1efd-46db-b441-85bbeb86e256",
   "metadata": {},
   "outputs": [
    {
     "name": "stdout",
     "output_type": "stream",
     "text": [
      "Mean performance (objective value) across 5 runs: 742.8\n"
     ]
    }
   ],
   "source": [
    "# Store results for each run\n",
    "results = []\n",
    "all_histories = []\n",
    "its = 5000\n",
    "num_runs = 5\n",
    "# Run the genetic algorithm 5 times with different seeds\n",
    "for seed in range(num_runs):\n",
    "    x, history = HC(lambda: init(), nbr_new, nbr_shuffle, its)\n",
    "    results.append(x)\n",
    "    all_histories.append(history)\n",
    "\n",
    "# Compare the mean performance across all runs\n",
    "mean_objective = sum(objective_function(sol) for sol in results) / num_runs\n",
    "print(f\"Mean performance (objective value) across {num_runs} runs: {mean_objective}\")"
   ]
  },
  {
   "cell_type": "code",
   "execution_count": 209,
   "id": "0824774f-92fb-4070-918f-5ba502a74ecd",
   "metadata": {},
   "outputs": [
    {
     "data": {
      "image/png": "[encoded data removed]",
      "text/plain": [
       "<Figure size 432x288 with 1 Axes>"
      ]
     },
     "metadata": {
      "needs_background": "light"
     },
     "output_type": "display_data"
    }
   ],
   "source": [
    "# Plot the histories for each run\n",
    "for run, history in enumerate(all_histories):\n",
    "    plt.plot(range(len(history)), history, label=f\"Run {run+1}\")\n",
    "\n",
    "plt.xlabel(\"Iterations\")\n",
    "plt.ylabel(\"Objective Value\")\n",
    "plt.title(\"Hill Climbing - Objective Value over Iterations\")\n",
    "plt.legend()\n",
    "plt.show()"
   ]
  },
  {
   "cell_type": "markdown",
   "id": "a161c63e-7877-44f5-8982-322304cbc452",
   "metadata": {},
   "source": [
    "## Experiment using genetic algorithm\n",
    "\n",
    "### Introduction\n",
    "To improve the experiment outcome, we implemented a Genetic Algorithm using roulette wheel selection. It definetly yeilded better result. However, James highlighted one important point that we might be loosing the best from a particular generation so suggested introducing elitism to preserve the best solution from each generation. We observed that the Genetic Algorithm with elitism significantly outperformed the other algorithms and novel ideas with a total value 1268."
   ]
  },
  {
   "cell_type": "code",
   "execution_count": 212,
   "id": "9daa3844",
   "metadata": {},
   "outputs": [],
   "source": [
    "import random\n",
    "\n",
    "# Function to generate a valid initial population\n",
    "def generate_population(pop_size, num_items, num_trucks):\n",
    "    population = []\n",
    "    while len(population) < pop_size:\n",
    "        solution = []\n",
    "        container_weights = [0] * num_trucks  # Track the weight of items in each truck\n",
    "        # truck weight limits\n",
    "        weight_limits = [72, 80, 109]\n",
    "        for j in range(num_items):            \n",
    "            truck = random.randint(0, num_trucks - 1)\n",
    "            new_item_weight = items[j][0]\n",
    "            # Check whether addition of this item to this truck makes it overweight\n",
    "            if container_weights[truck] + new_item_weight <= weight_limits[truck]:\n",
    "                chunk = [0] * num_trucks\n",
    "                chunk[truck] = 1\n",
    "                solution.extend(chunk)\n",
    "                container_weights[truck] += new_item_weight           \n",
    "\n",
    "        # Only add valid solutions to the population (those that satisfy constraints)\n",
    "        if objective_function(solution) > 0:  \n",
    "            population.append(solution)\n",
    "    return population\n",
    "\n",
    "def roulette_wheel_selection(population, fitness_scores):\n",
    "    selection_probabilities = [fitness / sum(fitness_scores) for fitness in fitness_scores]\n",
    "    selected_parents = []\n",
    "    \n",
    "    for _ in range(len(population) // 2):\n",
    "        selected = random.choices(population, selection_probabilities, k=2)\n",
    "        selected_parents.extend(selected)\n",
    "    \n",
    "    return selected_parents\n",
    "\n",
    "\n",
    "# Genetic Algorithm Parameters\n",
    "population_size = 100\n",
    "num_generations = 50\n",
    "mutation_rate = 0.1\n",
    "num_trucks = 3\n",
    "\n",
    "# Main Genetic Algorithm\n",
    "def genetic_algorithm():\n",
    "    population = generate_population(population_size, len(items), num_trucks)\n",
    "    history = []; gen_plot = []; best_solution = None\n",
    "    # For 50 generations\n",
    "    for generation in range(num_generations):\n",
    "        # Evaluate fitness of the population\n",
    "        fitness_scores = [objective_function(solution) for solution in population ] \n",
    "        \n",
    "        # Applying Elitism\n",
    "        # Store the best solution of this generation\n",
    "        # best_in_generation = max(population, key=objective_function)\n",
    "        # gen_plot.append(objective_function(best_in_generation))\n",
    "        \n",
    "        # if best_solution is None or objective_function(best_in_generation) > objective_function(best_solution):\n",
    "        #     best_solution = best_in_generation\n",
    "           \n",
    "        # Select parents based on fitness scores (roulette wheel selection)       \n",
    "        selected_parents = roulette_wheel_selection(population, fitness_scores)                                \n",
    "        \n",
    "        # Create offspring using crossover\n",
    "        offspring = []\n",
    "        for i in range(0, len(selected_parents), 2):\n",
    "            parent1 = selected_parents[i]\n",
    "            parent2 = selected_parents[i + 1]\n",
    "            # Treat each chunk of 3 bits as an item and avoid taking start and end as the cross-over point\n",
    "            crossover_point = random.randint(1, len(parent1) // 3 - 1)  \n",
    "\n",
    "            # Perform crossover\n",
    "            child1 = parent1[:crossover_point * 3] + parent2[crossover_point * 3:]\n",
    "            child2 = parent2[:crossover_point * 3] + parent1[crossover_point * 3:]           \n",
    "            offspring.extend([child1, child2])                        \n",
    "        \n",
    "        # Apply mutation\n",
    "        for i in range(len(offspring)):\n",
    "            if random.random() < mutation_rate:\n",
    "                mutation_point = random.randint(0, len(offspring[i]) // 3 - 1)  \n",
    "                # Adjust the mutation_point to the start of the selected item\n",
    "                mutation_point *= 3\n",
    "\n",
    "                # Determine the chunk index based on the mutation point\n",
    "                chunk_index = mutation_point // 3\n",
    "\n",
    "                # Check if the chunk already has an item added to a truck\n",
    "                chunk = offspring[i][chunk_index * 3:chunk_index * 3 + 3]\n",
    "                if sum(chunk) > 0:\n",
    "                    # Reset the bits associated with the item to zero\n",
    "                    offspring[i][chunk_index * 3:chunk_index * 3 + 3] = [0, 0, 0]\n",
    "                #print(\"Mutation in progress...\")\n",
    "                # Apply mutation by flipping the value at the selected mutation_point\n",
    "                offspring[i][mutation_point] = 1 - offspring[i][mutation_point]                      \n",
    "        \n",
    "        # Include the best solution from the previous generation in the offspring\n",
    "        if best_solution is not None:\n",
    "            offspring.append(best_solution)\n",
    "        \n",
    "        best_in_generation = max(offspring, key=objective_function)\n",
    "        gen_plot.append(objective_function(best_in_generation)) \n",
    "        population = offspring              \n",
    "            \n",
    "    for offspring in population:        \n",
    "        history.append(objective_function(offspring))\n",
    "    \n",
    "    # Find and return the best solution overall    \n",
    "    best_solution = max(population, key=objective_function)\n",
    "    return best_solution, history, gen_plot   "
   ]
  },
  {
   "cell_type": "code",
   "execution_count": 214,
   "id": "93d0d20a",
   "metadata": {},
   "outputs": [
    {
     "name": "stdout",
     "output_type": "stream",
     "text": [
      "Mean performance (objective value) across 5 runs: 1090.4\n"
     ]
    }
   ],
   "source": [
    "# Store results for each run\n",
    "results = []\n",
    "num_runs = 5\n",
    "# Run the genetic algorithm 5 times with different seeds\n",
    "for seed in range(num_runs):\n",
    "    solution, history, gen_plot = genetic_algorithm()\n",
    "    results.append((solution, history, gen_plot))\n",
    "\n",
    "# Compare the mean performance across all runs\n",
    "mean_objective = sum(objective_function(sol) for sol, _, _ in results) / num_runs\n",
    "print(f\"Mean performance (objective value) across {num_runs} runs: {mean_objective}\")"
   ]
  },
  {
   "cell_type": "code",
   "execution_count": 216,
   "id": "edf39413-45e0-4113-b9ed-e43b7e124e5a",
   "metadata": {},
   "outputs": [
    {
     "data": {
      "image/png": "[encoded data removed]",
      "text/plain": [
       "<Figure size 432x288 with 1 Axes>"
      ]
     },
     "metadata": {
      "needs_background": "light"
     },
     "output_type": "display_data"
    }
   ],
   "source": [
    "import matplotlib.pyplot as plt\n",
    "# Create a plot of values vs. offspring\n",
    "offspring_indices = list(range(1, 101))  # Indices for the offspring\n",
    "plt.plot(offspring_indices, history, marker='o', linestyle='-')\n",
    "\n",
    "plt.xlabel(\"Offspring\")\n",
    "plt.ylabel(\"Value\")\n",
    "plt.title(\"Values of Offspring in last Generation\")\n",
    "\n",
    "plt.show()"
   ]
  },
  {
   "cell_type": "code",
   "execution_count": 218,
   "id": "9b69e289-e4c8-4247-a6ea-e9c89794b860",
   "metadata": {},
   "outputs": [
    {
     "data": {
      "image/png": "[encoded data removed]",
      "text/plain": [
       "<Figure size 432x288 with 1 Axes>"
      ]
     },
     "metadata": {
      "needs_background": "light"
     },
     "output_type": "display_data"
    }
   ],
   "source": [
    "# Create a plot of values vs. gen_plot\n",
    "generations = list(range(1, 51))  # Indices for the offspring\n",
    "plt.plot(generations, gen_plot, marker='o', linestyle='-')\n",
    "\n",
    "plt.xlabel(\"Generations\")\n",
    "plt.ylabel(\"Value\")\n",
    "plt.title(\"Values of best in each Generation\")\n",
    "\n",
    "plt.show()"
   ]
  },
  {
   "cell_type": "markdown",
   "id": "7aac7568-57fa-4f32-ba40-300d6fcc5177",
   "metadata": {},
   "source": [
    "## Summarize\n",
    "Our results indicate that the Genetic Algorithm with elitism is a promising approach for solving the multi-truck packing problem. The initial novel ideas of nbr_new and nbr_shuffle in Hill Climbing did not yield satisfactory results, highlighting the importance of carefully designing neighbor operators. Additionally, it was surprising to observe that a basic Hill Climbing algorithm, designed for single-truck knapsack problems, outperformed our novel ideas in this complex problem.\n",
    "\n",
    "The success of the Genetic Algorithm can be attributed to its ability to explore a broader search space through crossover and mutation, while elitism ensured the preservation of the best solutions."
   ]
  }
 ],
 "metadata": {
  "kernelspec": {
   "display_name": "anaconda-2022.05-py39",
   "language": "python",
   "name": "conda-env-anaconda-2022.05-py39-py"
  },
  "language_info": {
   "codemirror_mode": {
    "name": "ipython",
    "version": 3
   },
   "file_extension": ".py",
   "mimetype": "text/x-python",
   "name": "python",
   "nbconvert_exporter": "python",
   "pygments_lexer": "ipython3",
   "version": "3.9.12"
  }
 },
 "nbformat": 4,
 "nbformat_minor": 5
}
